{
 "cells": [
  {
   "cell_type": "code",
   "execution_count": 1,
   "metadata": {},
   "outputs": [
    {
     "name": "stderr",
     "output_type": "stream",
     "text": [
      "/opt/homebrew/lib/python3.10/site-packages/tqdm/auto.py:22: TqdmWarning: IProgress not found. Please update jupyter and ipywidgets. See https://ipywidgets.readthedocs.io/en/stable/user_install.html\n",
      "  from .autonotebook import tqdm as notebook_tqdm\n"
     ]
    }
   ],
   "source": [
    "import numpy as np\n",
    "import torch"
   ]
  },
  {
   "cell_type": "code",
   "execution_count": 2,
   "metadata": {},
   "outputs": [],
   "source": [
    "x = np.random.randint(0,20, (2,4,2))"
   ]
  },
  {
   "cell_type": "code",
   "execution_count": 3,
   "metadata": {},
   "outputs": [
    {
     "data": {
      "text/plain": [
       "array([[[15,  4],\n",
       "        [11,  4],\n",
       "        [11,  2],\n",
       "        [17, 11]],\n",
       "\n",
       "       [[15, 16],\n",
       "        [10,  8],\n",
       "        [ 8, 14],\n",
       "        [ 3,  7]]])"
      ]
     },
     "execution_count": 3,
     "metadata": {},
     "output_type": "execute_result"
    }
   ],
   "source": [
    "x"
   ]
  },
  {
   "cell_type": "code",
   "execution_count": 4,
   "metadata": {},
   "outputs": [
    {
     "data": {
      "text/plain": [
       "(slice(1, 3, None), slice(5, 11, 2))"
      ]
     },
     "execution_count": 4,
     "metadata": {},
     "output_type": "execute_result"
    }
   ],
   "source": [
    "np.s_[1 : 3, 5 : 11 : 2]"
   ]
  },
  {
   "cell_type": "code",
   "execution_count": 5,
   "metadata": {},
   "outputs": [
    {
     "ename": "AttributeError",
     "evalue": "module 'numpy' has no attribute 'nd_slice_to_indexes'",
     "output_type": "error",
     "traceback": [
      "\u001b[0;31m---------------------------------------------------------------------------\u001b[0m",
      "\u001b[0;31mAttributeError\u001b[0m                            Traceback (most recent call last)",
      "Cell \u001b[0;32mIn [5], line 1\u001b[0m\n\u001b[0;32m----> 1\u001b[0m np\u001b[39m.\u001b[39;49mnd_slice_to_indexes(np\u001b[39m.\u001b[39ms_[\u001b[39m1\u001b[39m : \u001b[39m3\u001b[39m, \u001b[39m5\u001b[39m : \u001b[39m11\u001b[39m : \u001b[39m2\u001b[39m])\n",
      "File \u001b[0;32m/opt/homebrew/lib/python3.10/site-packages/numpy/__init__.py:311\u001b[0m, in \u001b[0;36m__getattr__\u001b[0;34m(attr)\u001b[0m\n\u001b[1;32m    308\u001b[0m     \u001b[39mfrom\u001b[39;00m \u001b[39m.\u001b[39;00m\u001b[39mtesting\u001b[39;00m \u001b[39mimport\u001b[39;00m Tester\n\u001b[1;32m    309\u001b[0m     \u001b[39mreturn\u001b[39;00m Tester\n\u001b[0;32m--> 311\u001b[0m \u001b[39mraise\u001b[39;00m \u001b[39mAttributeError\u001b[39;00m(\u001b[39m\"\u001b[39m\u001b[39mmodule \u001b[39m\u001b[39m{!r}\u001b[39;00m\u001b[39m has no attribute \u001b[39m\u001b[39m\"\u001b[39m\n\u001b[1;32m    312\u001b[0m                      \u001b[39m\"\u001b[39m\u001b[39m{!r}\u001b[39;00m\u001b[39m\"\u001b[39m\u001b[39m.\u001b[39mformat(\u001b[39m__name__\u001b[39m, attr))\n",
      "\u001b[0;31mAttributeError\u001b[0m: module 'numpy' has no attribute 'nd_slice_to_indexes'"
     ]
    }
   ],
   "source": [
    "np.nd_slice_to_indexes(np.s_[1 : 3, 5 : 11 : 2])"
   ]
  },
  {
   "cell_type": "code",
   "execution_count": 6,
   "metadata": {},
   "outputs": [],
   "source": [
    "x = torch.randint(0, 15, (2,4,2))"
   ]
  },
  {
   "cell_type": "code",
   "execution_count": 7,
   "metadata": {},
   "outputs": [
    {
     "data": {
      "text/plain": [
       "torch.Size([2, 3, 2])"
      ]
     },
     "execution_count": 7,
     "metadata": {},
     "output_type": "execute_result"
    }
   ],
   "source": [
    "x[:, 1:4, :].shape"
   ]
  },
  {
   "cell_type": "code",
   "execution_count": 8,
   "metadata": {},
   "outputs": [
    {
     "data": {
      "text/plain": [
       "((8, 2, 1), torch.Size([2, 4, 2]))"
      ]
     },
     "execution_count": 8,
     "metadata": {},
     "output_type": "execute_result"
    }
   ],
   "source": [
    "x.stride(), x.shape\n"
   ]
  },
  {
   "cell_type": "code",
   "execution_count": 16,
   "metadata": {},
   "outputs": [],
   "source": [
    "x = torch.randint(0,15, (16,32,64,1))"
   ]
  },
  {
   "cell_type": "code",
   "execution_count": 17,
   "metadata": {},
   "outputs": [],
   "source": [
    "strides = [1]\n",
    "tmp_i = 1\n",
    "for i in reversed(x.shape[1:]):\n",
    "    tmp_i = tmp_i * i\n",
    "    strides.insert(0, tmp_i)"
   ]
  },
  {
   "cell_type": "code",
   "execution_count": 18,
   "metadata": {},
   "outputs": [
    {
     "data": {
      "text/plain": [
       "[2048, 64, 1, 1]"
      ]
     },
     "execution_count": 18,
     "metadata": {},
     "output_type": "execute_result"
    }
   ],
   "source": [
    "strides"
   ]
  },
  {
   "cell_type": "code",
   "execution_count": 19,
   "metadata": {},
   "outputs": [
    {
     "data": {
      "text/plain": [
       "(2048, 64, 1, 1)"
      ]
     },
     "execution_count": 19,
     "metadata": {},
     "output_type": "execute_result"
    }
   ],
   "source": [
    "x.stride()"
   ]
  },
  {
   "cell_type": "code",
   "execution_count": 20,
   "metadata": {},
   "outputs": [
    {
     "data": {
      "text/plain": [
       "torch.Size([16, 32, 64, 1])"
      ]
     },
     "execution_count": 20,
     "metadata": {},
     "output_type": "execute_result"
    }
   ],
   "source": [
    "x.shape"
   ]
  },
  {
   "cell_type": "code",
   "execution_count": 21,
   "metadata": {},
   "outputs": [
    {
     "data": {
      "text/plain": [
       "tensor([[[[14],\n",
       "          [12],\n",
       "          [11],\n",
       "          ...,\n",
       "          [ 7],\n",
       "          [ 7],\n",
       "          [14]],\n",
       "\n",
       "         [[10],\n",
       "          [10],\n",
       "          [ 0],\n",
       "          ...,\n",
       "          [14],\n",
       "          [12],\n",
       "          [ 1]],\n",
       "\n",
       "         [[ 1],\n",
       "          [ 0],\n",
       "          [ 3],\n",
       "          ...,\n",
       "          [11],\n",
       "          [ 8],\n",
       "          [14]],\n",
       "\n",
       "         [[ 5],\n",
       "          [11],\n",
       "          [12],\n",
       "          ...,\n",
       "          [ 4],\n",
       "          [ 8],\n",
       "          [ 2]],\n",
       "\n",
       "         [[ 2],\n",
       "          [ 0],\n",
       "          [ 8],\n",
       "          ...,\n",
       "          [13],\n",
       "          [13],\n",
       "          [11]]],\n",
       "\n",
       "\n",
       "        [[[10],\n",
       "          [ 2],\n",
       "          [ 0],\n",
       "          ...,\n",
       "          [ 7],\n",
       "          [ 8],\n",
       "          [ 2]],\n",
       "\n",
       "         [[12],\n",
       "          [14],\n",
       "          [ 4],\n",
       "          ...,\n",
       "          [ 7],\n",
       "          [ 3],\n",
       "          [12]],\n",
       "\n",
       "         [[ 7],\n",
       "          [13],\n",
       "          [12],\n",
       "          ...,\n",
       "          [ 2],\n",
       "          [ 0],\n",
       "          [ 7]],\n",
       "\n",
       "         [[13],\n",
       "          [14],\n",
       "          [ 1],\n",
       "          ...,\n",
       "          [ 8],\n",
       "          [12],\n",
       "          [ 5]],\n",
       "\n",
       "         [[ 1],\n",
       "          [10],\n",
       "          [14],\n",
       "          ...,\n",
       "          [13],\n",
       "          [14],\n",
       "          [10]]],\n",
       "\n",
       "\n",
       "        [[[10],\n",
       "          [ 0],\n",
       "          [10],\n",
       "          ...,\n",
       "          [13],\n",
       "          [ 3],\n",
       "          [ 8]],\n",
       "\n",
       "         [[ 7],\n",
       "          [ 3],\n",
       "          [14],\n",
       "          ...,\n",
       "          [11],\n",
       "          [11],\n",
       "          [ 0]],\n",
       "\n",
       "         [[12],\n",
       "          [14],\n",
       "          [11],\n",
       "          ...,\n",
       "          [ 7],\n",
       "          [11],\n",
       "          [13]],\n",
       "\n",
       "         [[ 2],\n",
       "          [ 0],\n",
       "          [ 5],\n",
       "          ...,\n",
       "          [14],\n",
       "          [ 6],\n",
       "          [13]],\n",
       "\n",
       "         [[ 3],\n",
       "          [ 1],\n",
       "          [11],\n",
       "          ...,\n",
       "          [ 6],\n",
       "          [13],\n",
       "          [ 4]]],\n",
       "\n",
       "\n",
       "        [[[ 0],\n",
       "          [ 6],\n",
       "          [ 9],\n",
       "          ...,\n",
       "          [ 8],\n",
       "          [ 8],\n",
       "          [ 8]],\n",
       "\n",
       "         [[ 5],\n",
       "          [ 6],\n",
       "          [ 7],\n",
       "          ...,\n",
       "          [ 7],\n",
       "          [ 3],\n",
       "          [ 4]],\n",
       "\n",
       "         [[13],\n",
       "          [ 0],\n",
       "          [12],\n",
       "          ...,\n",
       "          [ 2],\n",
       "          [ 4],\n",
       "          [ 9]],\n",
       "\n",
       "         [[ 6],\n",
       "          [ 6],\n",
       "          [12],\n",
       "          ...,\n",
       "          [ 3],\n",
       "          [ 3],\n",
       "          [11]],\n",
       "\n",
       "         [[ 4],\n",
       "          [ 4],\n",
       "          [ 2],\n",
       "          ...,\n",
       "          [13],\n",
       "          [ 5],\n",
       "          [10]]],\n",
       "\n",
       "\n",
       "        [[[14],\n",
       "          [ 6],\n",
       "          [ 7],\n",
       "          ...,\n",
       "          [ 4],\n",
       "          [ 1],\n",
       "          [11]],\n",
       "\n",
       "         [[ 4],\n",
       "          [ 7],\n",
       "          [ 3],\n",
       "          ...,\n",
       "          [ 7],\n",
       "          [12],\n",
       "          [12]],\n",
       "\n",
       "         [[13],\n",
       "          [ 6],\n",
       "          [14],\n",
       "          ...,\n",
       "          [11],\n",
       "          [10],\n",
       "          [14]],\n",
       "\n",
       "         [[ 3],\n",
       "          [ 1],\n",
       "          [ 9],\n",
       "          ...,\n",
       "          [ 6],\n",
       "          [10],\n",
       "          [ 4]],\n",
       "\n",
       "         [[10],\n",
       "          [ 2],\n",
       "          [14],\n",
       "          ...,\n",
       "          [ 7],\n",
       "          [ 2],\n",
       "          [ 8]]]])"
      ]
     },
     "execution_count": 21,
     "metadata": {},
     "output_type": "execute_result"
    }
   ],
   "source": [
    "x[0:5, 5:10, :, :]"
   ]
  },
  {
   "cell_type": "code",
   "execution_count": 28,
   "metadata": {},
   "outputs": [
    {
     "data": {
      "text/plain": [
       "2048"
      ]
     },
     "execution_count": 28,
     "metadata": {},
     "output_type": "execute_result"
    }
   ],
   "source": []
  },
  {
   "cell_type": "code",
   "execution_count": 23,
   "metadata": {},
   "outputs": [
    {
     "data": {
      "text/plain": [
       "tensor([2048, 2049, 2050, 2051, 2052])"
      ]
     },
     "execution_count": 23,
     "metadata": {},
     "output_type": "execute_result"
    }
   ],
   "source": [
    "torch.arange(5) + 2048"
   ]
  },
  {
   "cell_type": "code",
   "execution_count": null,
   "metadata": {},
   "outputs": [],
   "source": [
    "torch.gather(x.flatten(), dim=0, index=)"
   ]
  },
  {
   "cell_type": "code",
   "execution_count": 32,
   "metadata": {},
   "outputs": [
    {
     "ename": "ValueError",
     "evalue": "operands could not be broadcast together with shapes (5,) (5,) (64,) (1,) ",
     "output_type": "error",
     "traceback": [
      "\u001b[0;31m---------------------------------------------------------------------------\u001b[0m",
      "\u001b[0;31mValueError\u001b[0m                                Traceback (most recent call last)",
      "Cell \u001b[0;32mIn [32], line 1\u001b[0m\n\u001b[0;32m----> 1\u001b[0m np\u001b[39m.\u001b[39;49mravel_multi_index((\u001b[39mlist\u001b[39;49m(np\u001b[39m.\u001b[39;49marange(\u001b[39m0\u001b[39;49m,\u001b[39m5\u001b[39;49m)),\u001b[39mlist\u001b[39;49m( np\u001b[39m.\u001b[39;49marange(\u001b[39m5\u001b[39;49m,\u001b[39m10\u001b[39;49m)), \u001b[39mlist\u001b[39;49m(np\u001b[39m.\u001b[39;49marange(\u001b[39m64\u001b[39;49m)),\u001b[39mlist\u001b[39;49m( np\u001b[39m.\u001b[39;49marange(\u001b[39m1\u001b[39;49m))), (\u001b[39m16\u001b[39;49m, \u001b[39m32\u001b[39;49m, \u001b[39m64\u001b[39;49m, \u001b[39m1\u001b[39;49m))\n",
      "File \u001b[0;32m<__array_function__ internals>:180\u001b[0m, in \u001b[0;36mravel_multi_index\u001b[0;34m(*args, **kwargs)\u001b[0m\n",
      "\u001b[0;31mValueError\u001b[0m: operands could not be broadcast together with shapes (5,) (5,) (64,) (1,) "
     ]
    }
   ],
   "source": [
    "np.ravel_multi_index((list(np.arange(0,5)),list( np.arange(5,10)), list(np.arange(64)),list( np.arange(1))), (16, 32, 64, 1))"
   ]
  },
  {
   "cell_type": "code",
   "execution_count": 38,
   "metadata": {},
   "outputs": [
    {
     "data": {
      "text/plain": [
       "(array([[[[0]]],\n",
       " \n",
       " \n",
       "        [[[1]]],\n",
       " \n",
       " \n",
       "        [[[2]]],\n",
       " \n",
       " \n",
       "        [[[3]]],\n",
       " \n",
       " \n",
       "        [[[4]]]]),\n",
       " array([[[[5]],\n",
       " \n",
       "         [[6]],\n",
       " \n",
       "         [[7]],\n",
       " \n",
       "         [[8]],\n",
       " \n",
       "         [[9]]]]),\n",
       " array([[[[ 0],\n",
       "          [ 1],\n",
       "          [ 2],\n",
       "          [ 3],\n",
       "          [ 4],\n",
       "          [ 5],\n",
       "          [ 6],\n",
       "          [ 7],\n",
       "          [ 8],\n",
       "          [ 9],\n",
       "          [10],\n",
       "          [11],\n",
       "          [12],\n",
       "          [13],\n",
       "          [14],\n",
       "          [15],\n",
       "          [16],\n",
       "          [17],\n",
       "          [18],\n",
       "          [19],\n",
       "          [20],\n",
       "          [21],\n",
       "          [22],\n",
       "          [23],\n",
       "          [24],\n",
       "          [25],\n",
       "          [26],\n",
       "          [27],\n",
       "          [28],\n",
       "          [29],\n",
       "          [30],\n",
       "          [31],\n",
       "          [32],\n",
       "          [33],\n",
       "          [34],\n",
       "          [35],\n",
       "          [36],\n",
       "          [37],\n",
       "          [38],\n",
       "          [39],\n",
       "          [40],\n",
       "          [41],\n",
       "          [42],\n",
       "          [43],\n",
       "          [44],\n",
       "          [45],\n",
       "          [46],\n",
       "          [47],\n",
       "          [48],\n",
       "          [49],\n",
       "          [50],\n",
       "          [51],\n",
       "          [52],\n",
       "          [53],\n",
       "          [54],\n",
       "          [55],\n",
       "          [56],\n",
       "          [57],\n",
       "          [58],\n",
       "          [59],\n",
       "          [60],\n",
       "          [61],\n",
       "          [62],\n",
       "          [63]]]]),\n",
       " array([[[[0]]]]))"
      ]
     },
     "execution_count": 38,
     "metadata": {},
     "output_type": "execute_result"
    }
   ],
   "source": [
    "np.ix_(np.r_[0:5], np.r_[5:10], np.r_[0:64], np.r_[0:1])"
   ]
  },
  {
   "cell_type": "code",
   "execution_count": 40,
   "metadata": {},
   "outputs": [],
   "source": [
    "idx = np.ravel_multi_index(multi_index=(np.ix_(np.r_[0:5], np.r_[5:10], np.r_[0:64], np.r_[0:1])), dims=(16,32,64,1))"
   ]
  },
  {
   "cell_type": "code",
   "execution_count": 48,
   "metadata": {},
   "outputs": [],
   "source": [
    "torchidx = torch.from_numpy(idx.flatten())"
   ]
  },
  {
   "cell_type": "code",
   "execution_count": 50,
   "metadata": {},
   "outputs": [
    {
     "data": {
      "text/plain": [
       "True"
      ]
     },
     "execution_count": 50,
     "metadata": {},
     "output_type": "execute_result"
    }
   ],
   "source": [
    "torch.allclose(x[0:5, 5:10, :, :].flatten(), torch.gather(x.flatten(), dim=0, index=torchidx))"
   ]
  },
  {
   "cell_type": "code",
   "execution_count": 49,
   "metadata": {},
   "outputs": [
    {
     "data": {
      "text/plain": [
       "tensor([14, 12, 11,  ...,  7,  2,  8])"
      ]
     },
     "execution_count": 49,
     "metadata": {},
     "output_type": "execute_result"
    }
   ],
   "source": [
    "torch.gather(x.flatten(), dim=0, index=torchidx)"
   ]
  },
  {
   "cell_type": "code",
   "execution_count": 47,
   "metadata": {},
   "outputs": [
    {
     "data": {
      "text/plain": [
       "(torch.Size([32768]), torch.Size([5, 5, 64, 1]))"
      ]
     },
     "execution_count": 47,
     "metadata": {},
     "output_type": "execute_result"
    }
   ],
   "source": [
    "x.flatten().shape, torchidx.shape"
   ]
  },
  {
   "cell_type": "code",
   "execution_count": null,
   "metadata": {},
   "outputs": [],
   "source": []
  }
 ],
 "metadata": {
  "kernelspec": {
   "display_name": "Python 3.10.8 64-bit",
   "language": "python",
   "name": "python3"
  },
  "language_info": {
   "codemirror_mode": {
    "name": "ipython",
    "version": 3
   },
   "file_extension": ".py",
   "mimetype": "text/x-python",
   "name": "python",
   "nbconvert_exporter": "python",
   "pygments_lexer": "ipython3",
   "version": "3.10.8"
  },
  "orig_nbformat": 4,
  "vscode": {
   "interpreter": {
    "hash": "b0fa6594d8f4cbf19f97940f81e996739fb7646882a419484c72d19e05852a7e"
   }
  }
 },
 "nbformat": 4,
 "nbformat_minor": 2
}
